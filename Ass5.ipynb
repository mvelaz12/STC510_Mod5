{
  "nbformat": 4,
  "nbformat_minor": 0,
  "metadata": {
    "colab": {
      "name": "Ass5",
      "provenance": []
    },
    "kernelspec": {
      "name": "python3",
      "display_name": "Python 3"
    }
  },
  "cells": [
    {
      "cell_type": "code",
      "metadata": {
        "id": "ssH28sH87Fle"
      },
      "source": [
        "#standard imports from your lecture\r\n",
        "#a lot of these didn't work so I had to do the nltk.downloads\r\n",
        "import os\r\n",
        "import re\r\n",
        "from nltk.corpus import stopwords\r\n",
        "from bs4 import BeautifulSoup\r\n",
        "from nltk.tokenize import sent_tokenize\r\n",
        "from nltk.tokenize import word_tokenize\r\n",
        "from nltk import download\r\n",
        "from nltk import pos_tag\r\n",
        "from nltk.stem import PorterStemmer\r\n",
        "from nltk.stem import WordNetLemmatizer\r\n",
        "from sklearn.feature_extraction.text import TfidfVectorizer\r\n",
        "import pandas as pd\r\n",
        "from string import punctuation\r\n",
        "from datetime import datetime\r\n",
        "import json\r\n",
        "from sklearn.model_selection import train_test_split\r\n",
        "from sklearn.naive_bayes import MultinomialNB\r\n",
        "from sklearn.metrics import accuracy_score\r\n",
        "from re import subn\r\n"
      ],
      "execution_count": 47,
      "outputs": []
    },
    {
      "cell_type": "code",
      "metadata": {
        "colab": {
          "base_uri": "https://localhost:8080/"
        },
        "id": "5oXFmz67J086",
        "outputId": "a3bf6d15-c559-44da-a13d-58d2dde13f11"
      },
      "source": [
        "#the above didn't work on COLAB so I had to do it like this\r\n",
        "import nltk\r\n",
        "nltk.download('stopwords')"
      ],
      "execution_count": 48,
      "outputs": [
        {
          "output_type": "stream",
          "text": [
            "[nltk_data] Downloading package stopwords to /root/nltk_data...\n",
            "[nltk_data]   Package stopwords is already up-to-date!\n"
          ],
          "name": "stdout"
        },
        {
          "output_type": "execute_result",
          "data": {
            "text/plain": [
              "True"
            ]
          },
          "metadata": {
            "tags": []
          },
          "execution_count": 48
        }
      ]
    },
    {
      "cell_type": "code",
      "metadata": {
        "id": "n1x0E55s9gPO"
      },
      "source": [
        "#Im always amazed how missing data can really screw up any manipulation of it\r\n",
        "jeopardy = pd.read_json(\"jeopardy.json\")\r\n",
        "jeo = jeopardy.dropna()\r\n",
        "question = list(jeo['question'])\r\n",
        "values = list(jeo['value'])"
      ],
      "execution_count": 49,
      "outputs": []
    },
    {
      "cell_type": "code",
      "metadata": {
        "id": "lLQCIQsJEpcV"
      },
      "source": [
        "english_stopwords = (stopwords.words('english') + list(punctuation))\r\n",
        "token_list = [x for x in question if not x in english_stopwords]"
      ],
      "execution_count": 50,
      "outputs": []
    },
    {
      "cell_type": "code",
      "metadata": {
        "id": "NzOvzJgmASY4"
      },
      "source": [
        "#stemming of the questions\r\n",
        "stemmer = PorterStemmer()\r\n",
        "stemmed_qlist = []\r\n",
        "stem_q = []\r\n",
        "for x in token_list:\r\n",
        "  stemmed_qlist.append(stemmer.stem(str(x)))"
      ],
      "execution_count": 51,
      "outputs": []
    },
    {
      "cell_type": "code",
      "metadata": {
        "id": "ZslZdC7P-FUZ"
      },
      "source": [
        "final_dict = pd.DataFrame([values, stemmed_qlist])\r\n",
        "df = final_dict.T\r\n",
        "df.columns = ['money_value','question']"
      ],
      "execution_count": 52,
      "outputs": []
    },
    {
      "cell_type": "code",
      "metadata": {
        "id": "rLTJ3YSYL-RE"
      },
      "source": [
        "#we need to sort the values into high and low, some of the values are $2000 and some are $2,000 so I had to take out commas\r\n",
        "df.loc[:,'hi_low'] = df.loc[:,'money_value'].apply(lambda x: \"low\" if int(x[1:].replace(',','')) < 1000 else \"high\")\r\n"
      ],
      "execution_count": 53,
      "outputs": []
    },
    {
      "cell_type": "code",
      "metadata": {
        "id": "Dxbhc8PSMQ7f"
      },
      "source": [
        "#taken from the last lecture video\r\n",
        "X_train, X_test, y_train, y_test = train_test_split(df.question, \r\n",
        "                                                    df.money_value, random_state=1)\r\n",
        "Tfidf_vectorizer = TfidfVectorizer(use_idf=True)\r\n",
        "X_train_tf = Tfidf_vectorizer.fit_transform(X_train)\r\n",
        "X_test_tf = Tfidf_vectorizer.transform(X_test)"
      ],
      "execution_count": 54,
      "outputs": []
    },
    {
      "cell_type": "code",
      "metadata": {
        "colab": {
          "base_uri": "https://localhost:8080/"
        },
        "id": "UcXpt6jyMwqb",
        "outputId": "89a0e169-daab-4c4d-93b6-68d92e599249"
      },
      "source": [
        "#taken from the last lecture video\r\n",
        "#its really innacurate but im proud of it\r\n",
        "naive_bayes = MultinomialNB()\r\n",
        "naive_bayes.fit(X_train_tf, y_train)\r\n",
        "predictions = naive_bayes.predict(X_test_tf)\r\n",
        "print(\"accuracy: \",accuracy_score(y_test,predictions))"
      ],
      "execution_count": 55,
      "outputs": [
        {
          "output_type": "stream",
          "text": [
            "accuracy:  0.19552171630035256\n"
          ],
          "name": "stdout"
        }
      ]
    },
    {
      "cell_type": "code",
      "metadata": {
        "id": "ooqYkH1OOf6F"
      },
      "source": [
        ""
      ],
      "execution_count": null,
      "outputs": []
    }
  ]
}